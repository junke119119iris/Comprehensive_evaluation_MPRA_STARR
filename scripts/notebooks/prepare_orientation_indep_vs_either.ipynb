{
 "cells": [
  {
   "cell_type": "code",
   "execution_count": 7,
   "id": "11e5186e-9dbe-4b8e-a4dc-89236d8b4645",
   "metadata": {
    "execution": {
     "iopub.execute_input": "2025-04-11T17:08:24.624130Z",
     "iopub.status.busy": "2025-04-11T17:08:24.623897Z",
     "iopub.status.idle": "2025-04-11T17:08:24.627727Z",
     "shell.execute_reply": "2025-04-11T17:08:24.627258Z",
     "shell.execute_reply.started": "2025-04-11T17:08:24.624110Z"
    },
    "tags": []
   },
   "outputs": [],
   "source": [
    "# -------------------- Standard Library Imports --------------------\n",
    "import argparse\n",
    "import glob\n",
    "import os\n",
    "import sys\n",
    "from multiprocessing import Pool, cpu_count\n",
    "from random import sample\n",
    "from subprocess import PIPE, Popen, STDOUT, call, run\n",
    "\n",
    "# -------------------- Scientific Libraries ------------------------\n",
    "import numpy as np\n",
    "import pandas as pd\n",
    "import pybedtools\n",
    "import pysam\n",
    "import scipy\n",
    "import statsmodels.stats.multitest as smm\n",
    "from Bio import SeqIO\n",
    "\n",
    "pybedtools.helpers.set_tempdir('/fs/cbsuhy02/storage/jz855/tmp/') \n"
   ]
  },
  {
   "cell_type": "code",
   "execution_count": 2,
   "id": "6ae3aa41-d69f-4a5c-9b0a-dd1752604a2a",
   "metadata": {
    "execution": {
     "iopub.execute_input": "2025-04-11T17:04:12.387431Z",
     "iopub.status.busy": "2025-04-11T17:04:12.387128Z",
     "iopub.status.idle": "2025-04-11T17:04:12.391503Z",
     "shell.execute_reply": "2025-04-11T17:04:12.390947Z",
     "shell.execute_reply.started": "2025-04-11T17:04:12.387390Z"
    }
   },
   "outputs": [
    {
     "name": "stdout",
     "output_type": "stream",
     "text": [
      "/local/storage/jz855/STARR_seq_code/Final_Code_Sharing\n"
     ]
    }
   ],
   "source": [
    "# Specify root directory\n",
    "project_root = os.path.abspath(os.path.join(os.getcwd(), '..'))\n",
    "print(project_root)\n"
   ]
  },
  {
   "cell_type": "markdown",
   "id": "da787197-62ec-4624-ae3f-d757381cef23",
   "metadata": {},
   "source": [
    "# LentiMPRA"
   ]
  },
  {
   "cell_type": "code",
   "execution_count": 22,
   "id": "ad802005-15e6-419d-bac0-f6a8d179483a",
   "metadata": {
    "execution": {
     "iopub.execute_input": "2025-04-11T17:57:04.114680Z",
     "iopub.status.busy": "2025-04-11T17:57:04.114393Z",
     "iopub.status.idle": "2025-04-11T17:57:05.789452Z",
     "shell.execute_reply": "2025-04-11T17:57:05.788877Z",
     "shell.execute_reply.started": "2025-04-11T17:57:04.114661Z"
    },
    "tags": []
   },
   "outputs": [
    {
     "name": "stdout",
     "output_type": "stream",
     "text": [
      "Number of tested regions (all orientations): 113673\n",
      "Number of orientation-independent peaks: 16603\n",
      "Number of active regions (only one orientation active): 3875\n",
      "Number of regions in BedTool object (after filtering): 3875\n",
      "Number of regions overlapping with orientation-independent peaks (>=90%): 1\n",
      "Number of regions remaining after excluding overlaps: 3874\n",
      "Number of merged active regions: 3872\n",
      "Finished writing merged active regions to: /local/storage/jz855/STARR_seq_code/Final_Code_Sharing/data/uniform_processed_data/LentiMPRA/merged_peak/merged_enhancer_peak_from_either_in_tested_both.bed.gz\n"
     ]
    }
   ],
   "source": [
    "# Read the input gzipped BED file containing all tested elements in both orientations\n",
    "input_file = os.path.join(project_root, 'data', 'uniform_processed_data', \n",
    "                          'LentiMPRA', 'element_level', 'all_element_tested_in_both_orientations.bed.gz')\n",
    "lenti_tested_regions = pd.read_csv(input_file, sep='\\t', header=None)\n",
    "print(\"Number of tested regions (all orientations):\", len(lenti_tested_regions))\n",
    "\n",
    "# Read the orientation-independent peak file\n",
    "peak_file = os.path.join(project_root, 'data', 'uniform_processed_data', \n",
    "                          'LentiMPRA', 'merged_peak', 'merged_enhancer_peak_orientation_independent.bed.gz')\n",
    "lenti_orientation_indep_peak = pd.read_csv(peak_file, sep='\\t', header=None)\n",
    "print(\"Number of orientation-independent peaks:\", len(lenti_orientation_indep_peak))\n",
    "\n",
    "# Convert orientation-independent peak DataFrame to a BedTool object\n",
    "lenti_orientation_indep_peak_bed = pybedtools.BedTool.from_dataframe(lenti_orientation_indep_peak)\n",
    "\n",
    "# -------------------------------------------------------------------------\n",
    "# Filter regions:\n",
    "#   - Exclude regions where the value in column 19 is 'enhancer'\n",
    "#     (indicating they are active in both orientations).\n",
    "#   - Retain regions where either column 7 or column 13 is 'enhancer'\n",
    "#     (i.e. only one orientation is active).\n",
    "# -------------------------------------------------------------------------\n",
    "lenti_tested_regions = lenti_tested_regions[lenti_tested_regions[19] != 'enhancer']\n",
    "lenti_either_active_regions = lenti_tested_regions[\n",
    "    (lenti_tested_regions[7] == 'enhancer') | (lenti_tested_regions[13] == 'enhancer')\n",
    "]\n",
    "print(\"Number of active regions (only one orientation active):\", len(lenti_either_active_regions))\n",
    "\n",
    "# -------------------------------------------------------------------------\n",
    "# Convert the filtered DataFrame to a BedTool object for merging overlapping intervals.\n",
    "# -------------------------------------------------------------------------\n",
    "lenti_either_active_regions_bedtool = pybedtools.BedTool.from_dataframe(lenti_either_active_regions)\n",
    "print(\"Number of regions in BedTool object (after filtering):\", len(lenti_either_active_regions_bedtool))\n",
    "\n",
    "# -------------------------------------------------------------------------\n",
    "# Exclude regions overlapping with orientation-independent peaks (>=90% overlap)\n",
    "# -------------------------------------------------------------------------\n",
    "lenti_either_active_regions_overlap_with_orientation_indep_peak = lenti_either_active_regions_bedtool.intersect(lenti_orientation_indep_peak_bed, wa=True, f=0.9)\n",
    "print(\"Number of regions overlapping with orientation-independent peaks (>=90%):\", len(lenti_either_active_regions_overlap_with_orientation_indep_peak))\n",
    "\n",
    "lenti_either_active_regions_bedtool = lenti_either_active_regions_bedtool.intersect(lenti_either_active_regions_overlap_with_orientation_indep_peak, v=True, F=1)\n",
    "print(\"Number of regions remaining after excluding overlaps:\", len(lenti_either_active_regions_bedtool))\n",
    "\n",
    "# -------------------------------------------------------------------------\n",
    "# Merge overlapping regions in the BedTool and convert back to a DataFrame.\n",
    "# -------------------------------------------------------------------------\n",
    "lenti_merged_active_regions = lenti_either_active_regions_bedtool.merge().to_dataframe(disable_auto_names=True, header=None)\n",
    "print(\"Number of merged active regions:\", len(lenti_merged_active_regions))\n",
    "\n",
    "# -------------------------------------------------------------------------\n",
    "# Write the merged active regions to an output gzipped BED file.\n",
    "# -------------------------------------------------------------------------\n",
    "output_file = os.path.join(project_root, 'data', 'uniform_processed_data', \n",
    "                           'LentiMPRA', 'merged_peak', 'merged_enhancer_peak_from_either_in_tested_both.bed.gz')\n",
    "lenti_merged_active_regions.to_csv(output_file, sep='\\t', header=False, index=False)\n",
    "print(\"Finished writing merged active regions to:\", output_file)\n"
   ]
  },
  {
   "cell_type": "markdown",
   "id": "dc272197-6c3c-4666-b80d-83775ff0a742",
   "metadata": {},
   "source": [
    "# ATAC-STARR-seq"
   ]
  },
  {
   "cell_type": "code",
   "execution_count": 32,
   "id": "d5348b7f-40d1-484a-acb9-84b36705d8f5",
   "metadata": {
    "execution": {
     "iopub.execute_input": "2025-04-11T18:20:13.236530Z",
     "iopub.status.busy": "2025-04-11T18:20:13.236233Z",
     "iopub.status.idle": "2025-04-11T18:21:11.918705Z",
     "shell.execute_reply": "2025-04-11T18:21:11.917882Z",
     "shell.execute_reply.started": "2025-04-11T18:20:13.236507Z"
    },
    "tags": []
   },
   "outputs": [
    {
     "name": "stdout",
     "output_type": "stream",
     "text": [
      "Number of tested regions (all orientations): 10473381\n",
      "Number of orientation-independent peaks: 11679\n",
      "Number of active regions (only one orientation active): 103197\n",
      "Number of regions in BedTool object (after filtering): 103197\n",
      "Number of regions remaining after excluding overlaps: 59851\n",
      "Number of merged active regions: 16421\n",
      "Finished writing merged active regions to: /local/storage/jz855/STARR_seq_code/Final_Code_Sharing/data/uniform_processed_data/ATAC_STARR_seq/merged_peak/merged_enhancer_peak_from_either_in_tested_both.bed.gz\n"
     ]
    }
   ],
   "source": [
    "# Read the input gzipped BED file containing all tested elements in both orientations\n",
    "input_file = os.path.join(project_root, 'data', 'uniform_processed_data', \n",
    "                          'ATAC_STARR_seq', 'bin_level', 'all_bin_tested_in_both_orientations.bed.gz')\n",
    "atac_starr_tested_regions = pd.read_csv(input_file, sep='\\t', header=None)\n",
    "print(\"Number of tested regions (all orientations):\", len(atac_starr_tested_regions))\n",
    "\n",
    "# Read the orientation-independent peak file\n",
    "peak_file = os.path.join(project_root, 'data', 'uniform_processed_data', \n",
    "                          'ATAC_STARR_seq', 'merged_peak', 'merged_enhancer_peak_orientation_independent.bed.gz')\n",
    "atac_starr_orientation_indep_peak = pd.read_csv(peak_file, sep='\\t', header=None)\n",
    "print(\"Number of orientation-independent peaks:\", len(atac_starr_orientation_indep_peak))\n",
    "\n",
    "# Convert orientation-independent peak DataFrame to a BedTool object\n",
    "atac_starr_orientation_indep_peak_bed = pybedtools.BedTool.from_dataframe(atac_starr_orientation_indep_peak)\n",
    "\n",
    "# -------------------------------------------------------------------------\n",
    "# Filter regions:\n",
    "#   - Exclude regions where the value in column 19 is 'enhancer'\n",
    "#     (indicating they are active in both orientations).\n",
    "#   - Retain regions where either column 7 or column 13 is 'enhancer'\n",
    "#     (i.e. only one orientation is active).\n",
    "# -------------------------------------------------------------------------\n",
    "atac_starr_tested_regions = atac_starr_tested_regions[atac_starr_tested_regions[19] != 'enhancer']\n",
    "atac_starr_either_active_regions = atac_starr_tested_regions[\n",
    "    (atac_starr_tested_regions[7] == 'enhancer') | (atac_starr_tested_regions[13] == 'enhancer')\n",
    "]\n",
    "print(\"Number of active regions (only one orientation active):\", len(atac_starr_either_active_regions))\n",
    "\n",
    "# -------------------------------------------------------------------------\n",
    "# Convert the filtered DataFrame to a BedTool object for merging overlapping intervals.\n",
    "# -------------------------------------------------------------------------\n",
    "atac_starr_either_active_regions_bedtool = pybedtools.BedTool.from_dataframe(atac_starr_either_active_regions)\n",
    "print(\"Number of regions in BedTool object (after filtering):\", len(atac_starr_either_active_regions_bedtool))\n",
    "\n",
    "# -------------------------------------------------------------------------\n",
    "# Exclude regions overlapping with orientation-independent peaks (>=90% overlap)\n",
    "# -------------------------------------------------------------------------\n",
    "# atac_starr_either_active_regions_overlap_with_orientation_indep_peak = atac_starr_either_active_regions_bedtool.intersect(atac_starr_orientation_indep_peak_bed, wa=True, f=0.9)\n",
    "# print(\"Number of regions overlapping with orientation-independent peaks (>=90%):\", len(atac_starr_either_active_regions_overlap_with_orientation_indep_peak))\n",
    "\n",
    "# atac_starr_either_active_regions_bedtool = atac_starr_either_active_regions_bedtool.intersect(atac_starr_either_active_regions_overlap_with_orientation_indep_peak, v=True, F=1)\n",
    "\n",
    "atac_starr_either_active_regions_bedtool = atac_starr_either_active_regions_bedtool.intersect(atac_starr_orientation_indep_peak_bed, v=True)\n",
    "print(\"Number of regions remaining after excluding overlaps:\", len(atac_starr_either_active_regions_bedtool))\n",
    "\n",
    "# -------------------------------------------------------------------------\n",
    "# Merge overlapping regions in the BedTool and convert back to a DataFrame.\n",
    "# -------------------------------------------------------------------------\n",
    "atac_starr_merged_active_regions = atac_starr_either_active_regions_bedtool.merge().to_dataframe(disable_auto_names=True, header=None)\n",
    "print(\"Number of merged active regions:\", len(atac_starr_merged_active_regions))\n",
    "\n",
    "# -------------------------------------------------------------------------\n",
    "# Write the merged active regions to an output gzipped BED file.\n",
    "# -------------------------------------------------------------------------\n",
    "output_file = os.path.join(project_root, 'data', 'uniform_processed_data', \n",
    "                           'ATAC_STARR_seq', 'merged_peak', 'merged_enhancer_peak_from_either_in_tested_both.bed.gz')\n",
    "atac_starr_merged_active_regions.to_csv(output_file, sep='\\t', header=False, index=False)\n",
    "print(\"Finished writing merged active regions to:\", output_file)\n",
    "\n"
   ]
  },
  {
   "cell_type": "code",
   "execution_count": 34,
   "id": "9df2e9ff-ae32-49c1-a69a-f35d8d33e40f",
   "metadata": {
    "execution": {
     "iopub.execute_input": "2025-04-11T18:25:17.102003Z",
     "iopub.status.busy": "2025-04-11T18:25:17.101732Z",
     "iopub.status.idle": "2025-04-11T18:25:18.588034Z",
     "shell.execute_reply": "2025-04-11T18:25:18.587302Z",
     "shell.execute_reply.started": "2025-04-11T18:25:17.101979Z"
    },
    "tags": []
   },
   "outputs": [
    {
     "name": "stdout",
     "output_type": "stream",
     "text": [
      "Number of merged active regions (BedTool): 16421\n",
      "Number of orientation-independent peaks (BedTool): 11679\n",
      "Number of intersection entries: 11679\n",
      "Number of intersections with zero overlap: 11679\n",
      "Number of entries with positive overlap: 0\n",
      "Descriptive statistics of overlap (positive entries):\n",
      "count    0.0\n",
      "mean     NaN\n",
      "std      NaN\n",
      "min      NaN\n",
      "25%      NaN\n",
      "50%      NaN\n",
      "75%      NaN\n",
      "max      NaN\n",
      "Name: 17, dtype: float64\n"
     ]
    }
   ],
   "source": [
    "# -------------------------------------------------------------------------\n",
    "# Convert the merged active regions DataFrame to a BedTool object.\n",
    "# -------------------------------------------------------------------------\n",
    "atac_starr_merged_active_regions_bed = pybedtools.BedTool.from_dataframe(atac_starr_merged_active_regions)\n",
    "\n",
    "# Print the number of intervals in the merged active regions BedTool.\n",
    "print(\"Number of merged active regions (BedTool):\", len(atac_starr_merged_active_regions_bed))\n",
    "\n",
    "# Print the number of intervals in the orientation-independent peak BedTool.\n",
    "print(\"Number of orientation-independent peaks (BedTool):\", len(atac_starr_orientation_indep_peak_bed))\n",
    "\n",
    "# -------------------------------------------------------------------------\n",
    "# Compute the intersection between the orientation-independent peaks and the \n",
    "# merged active regions. The 'wao' option reports the number of overlapping \n",
    "# base pairs for each feature (adds a column at index 17).\n",
    "# -------------------------------------------------------------------------\n",
    "intersect = atac_starr_orientation_indep_peak_bed.intersect(atac_starr_merged_active_regions_bed, wao=True).to_dataframe(disable_auto_names=True, header=None)\n",
    "\n",
    "# Print the number of rows in the intersection DataFrame.\n",
    "print(\"Number of intersection entries:\", len(intersect))\n",
    "\n",
    "# -------------------------------------------------------------------------\n",
    "# Sort the intersection DataFrame based on the overlap column (column index 17).\n",
    "# -------------------------------------------------------------------------\n",
    "intersect = intersect.sort_values(17)\n",
    "\n",
    "# Print the number of entries where there is no overlap (overlap equals zero).\n",
    "print(\"Number of intersections with zero overlap:\", len(intersect[intersect[17] == 0]))\n",
    "\n",
    "# -------------------------------------------------------------------------\n",
    "# Identify the entries with a positive overlap.\n",
    "# -------------------------------------------------------------------------\n",
    "have_intersect = intersect[intersect[17] > 0]\n",
    "\n",
    "# Print the number of entries with a positive overlap.\n",
    "print(\"Number of entries with positive overlap:\", len(have_intersect))\n",
    "\n",
    "# Print the descriptive statistics (e.g., count, mean, std, min, max, percentiles)\n",
    "# for the overlap column (column index 17) among the entries with positive overlap.\n",
    "print(\"Descriptive statistics of overlap (positive entries):\")\n",
    "print(have_intersect[17].describe())\n"
   ]
  },
  {
   "cell_type": "markdown",
   "id": "0ab83f02-a22a-4743-bfa1-a76757e3f328",
   "metadata": {},
   "source": [
    "# WHG-STARR-seq"
   ]
  },
  {
   "cell_type": "code",
   "execution_count": 35,
   "id": "00efffc9-053e-49c2-9049-2af15c46a61c",
   "metadata": {
    "execution": {
     "iopub.execute_input": "2025-04-11T18:25:46.456197Z",
     "iopub.status.busy": "2025-04-11T18:25:46.455900Z",
     "iopub.status.idle": "2025-04-11T18:35:25.816936Z",
     "shell.execute_reply": "2025-04-11T18:35:25.816159Z",
     "shell.execute_reply.started": "2025-04-11T18:25:46.456172Z"
    },
    "tags": []
   },
   "outputs": [
    {
     "name": "stdout",
     "output_type": "stream",
     "text": [
      "Number of tested regions (all orientations): 109842059\n",
      "Number of orientation-independent peaks: 25505\n",
      "Number of active regions (only one orientation active): 447558\n",
      "Number of regions in BedTool object (after filtering): 447558\n",
      "Number of regions remaining after excluding overlaps: 282376\n",
      "Number of merged active regions: 47189\n",
      "Finished writing merged active regions to: /local/storage/jz855/STARR_seq_code/Final_Code_Sharing/data/uniform_processed_data/WHG_STARR_seq/merged_peak/merged_enhancer_peak_from_either_in_tested_both.bed.gz\n"
     ]
    }
   ],
   "source": [
    "# Read the input gzipped BED file containing all tested elements in both orientations\n",
    "input_file = os.path.join(project_root, 'data', 'uniform_processed_data', \n",
    "                          'WHG_STARR_seq', 'bin_level', 'all_bin_tested_in_both_orientations.bed.gz')\n",
    "whg_starr_tested_regions = pd.read_csv(input_file, sep='\\t', header=None)\n",
    "print(\"Number of tested regions (all orientations):\", len(whg_starr_tested_regions))\n",
    "\n",
    "# Read the orientation-independent peak file\n",
    "peak_file = os.path.join(project_root, 'data', 'uniform_processed_data', \n",
    "                          'WHG_STARR_seq', 'merged_peak', 'merged_enhancer_peak_orientation_independent.bed.gz')\n",
    "whg_starr_orientation_indep_peak = pd.read_csv(peak_file, sep='\\t', header=None)\n",
    "print(\"Number of orientation-independent peaks:\", len(whg_starr_orientation_indep_peak))\n",
    "\n",
    "# Convert orientation-independent peak DataFrame to a BedTool object\n",
    "whg_starr_orientation_indep_peak_bed = pybedtools.BedTool.from_dataframe(whg_starr_orientation_indep_peak)\n",
    "\n",
    "# -------------------------------------------------------------------------\n",
    "# Filter regions:\n",
    "#   - Exclude regions where the value in column 19 is 'enhancer'\n",
    "#     (indicating they are active in both orientations).\n",
    "#   - Retain regions where either column 7 or column 13 is 'enhancer'\n",
    "#     (i.e. only one orientation is active).\n",
    "# -------------------------------------------------------------------------\n",
    "whg_starr_tested_regions = whg_starr_tested_regions[whg_starr_tested_regions[19] != 'enhancer']\n",
    "whg_starr_either_active_regions = whg_starr_tested_regions[\n",
    "    (whg_starr_tested_regions[7] == 'enhancer') | (whg_starr_tested_regions[13] == 'enhancer')\n",
    "]\n",
    "print(\"Number of active regions (only one orientation active):\", len(whg_starr_either_active_regions))\n",
    "\n",
    "# -------------------------------------------------------------------------\n",
    "# Convert the filtered DataFrame to a BedTool object for merging overlapping intervals.\n",
    "# -------------------------------------------------------------------------\n",
    "whg_starr_either_active_regions_bedtool = pybedtools.BedTool.from_dataframe(whg_starr_either_active_regions)\n",
    "print(\"Number of regions in BedTool object (after filtering):\", len(whg_starr_either_active_regions_bedtool))\n",
    "\n",
    "# -------------------------------------------------------------------------\n",
    "# Exclude regions overlapping with orientation-independent peaks (>=90% overlap)\n",
    "# -------------------------------------------------------------------------\n",
    "# whg_starr_either_active_regions_overlap_with_orientation_indep_peak = whg_starr_either_active_regions_bedtool.intersect(whg_starr_orientation_indep_peak_bed, wa=True, f=0.9)\n",
    "# print(\"Number of regions overlapping with orientation-independent peaks (>=90%):\", len(whg_starr_either_active_regions_overlap_with_orientation_indep_peak))\n",
    "\n",
    "# whg_starr_either_active_regions_bedtool = whg_starr_either_active_regions_bedtool.intersect(whg_starr_either_active_regions_overlap_with_orientation_indep_peak, v=True, F=1)\n",
    "whg_starr_either_active_regions_bedtool = whg_starr_either_active_regions_bedtool.intersect(whg_starr_orientation_indep_peak_bed, v=True)\n",
    "print(\"Number of regions remaining after excluding overlaps:\", len(whg_starr_either_active_regions_bedtool))\n",
    "\n",
    "# -------------------------------------------------------------------------\n",
    "# Merge overlapping regions in the BedTool and convert back to a DataFrame.\n",
    "# -------------------------------------------------------------------------\n",
    "whg_starr_merged_active_regions = whg_starr_either_active_regions_bedtool.merge().to_dataframe(disable_auto_names=True, header=None)\n",
    "print(\"Number of merged active regions:\", len(whg_starr_merged_active_regions))\n",
    "\n",
    "# -------------------------------------------------------------------------\n",
    "# Write the merged active regions to an output gzipped BED file.\n",
    "# -------------------------------------------------------------------------\n",
    "output_file = os.path.join(project_root, 'data', 'uniform_processed_data', \n",
    "                           'WHG_STARR_seq', 'merged_peak', 'merged_enhancer_peak_from_either_in_tested_both.bed.gz')\n",
    "whg_starr_merged_active_regions.to_csv(output_file, sep='\\t', header=False, index=False)\n",
    "print(\"Finished writing merged active regions to:\", output_file)\n"
   ]
  },
  {
   "cell_type": "code",
   "execution_count": 36,
   "id": "f47e6a68-c7ca-4218-8f1a-718cef25081b",
   "metadata": {
    "execution": {
     "iopub.execute_input": "2025-04-11T18:35:25.824353Z",
     "iopub.status.busy": "2025-04-11T18:35:25.824145Z",
     "iopub.status.idle": "2025-04-11T18:35:28.144666Z",
     "shell.execute_reply": "2025-04-11T18:35:28.144017Z",
     "shell.execute_reply.started": "2025-04-11T18:35:25.824329Z"
    },
    "tags": []
   },
   "outputs": [
    {
     "name": "stdout",
     "output_type": "stream",
     "text": [
      "Number of merged active regions (BedTool): 47189\n",
      "Number of orientation-independent peaks (BedTool): 25505\n",
      "Number of intersection entries: 25505\n",
      "Number of intersections with zero overlap: 25505\n",
      "Number of entries with positive overlap: 0\n",
      "Descriptive statistics of overlap (positive entries):\n",
      "count    0.0\n",
      "mean     NaN\n",
      "std      NaN\n",
      "min      NaN\n",
      "25%      NaN\n",
      "50%      NaN\n",
      "75%      NaN\n",
      "max      NaN\n",
      "Name: 17, dtype: float64\n"
     ]
    }
   ],
   "source": [
    "# -------------------------------------------------------------------------\n",
    "# Convert the merged active regions DataFrame to a BedTool object.\n",
    "# -------------------------------------------------------------------------\n",
    "whg_starr_merged_active_regions_bed = pybedtools.BedTool.from_dataframe(whg_starr_merged_active_regions)\n",
    "\n",
    "# Print the number of intervals in the merged active regions BedTool.\n",
    "print(\"Number of merged active regions (BedTool):\", len(whg_starr_merged_active_regions_bed))\n",
    "\n",
    "# Print the number of intervals in the orientation-independent peak BedTool.\n",
    "print(\"Number of orientation-independent peaks (BedTool):\", len(whg_starr_orientation_indep_peak_bed))\n",
    "\n",
    "# -------------------------------------------------------------------------\n",
    "# Compute the intersection between the orientation-independent peaks and the \n",
    "# merged active regions. The 'wao' option reports the number of overlapping \n",
    "# base pairs for each feature (adds a column at index 17).\n",
    "# -------------------------------------------------------------------------\n",
    "intersect = whg_starr_orientation_indep_peak_bed.intersect(whg_starr_merged_active_regions_bed, wao=True).to_dataframe(disable_auto_names=True, header=None)\n",
    "\n",
    "# Print the number of rows in the intersection DataFrame.\n",
    "print(\"Number of intersection entries:\", len(intersect))\n",
    "\n",
    "# -------------------------------------------------------------------------\n",
    "# Sort the intersection DataFrame based on the overlap column (column index 17).\n",
    "# -------------------------------------------------------------------------\n",
    "intersect = intersect.sort_values(17)\n",
    "\n",
    "# Print the number of entries where there is no overlap (overlap equals zero).\n",
    "print(\"Number of intersections with zero overlap:\", len(intersect[intersect[17] == 0]))\n",
    "\n",
    "# -------------------------------------------------------------------------\n",
    "# Identify the entries with a positive overlap.\n",
    "# -------------------------------------------------------------------------\n",
    "have_intersect = intersect[intersect[17] > 0]\n",
    "\n",
    "# Print the number of entries with a positive overlap.\n",
    "print(\"Number of entries with positive overlap:\", len(have_intersect))\n",
    "\n",
    "# Print the descriptive statistics (e.g., count, mean, std, min, max, percentiles)\n",
    "# for the overlap column (column index 17) among the entries with positive overlap.\n",
    "print(\"Descriptive statistics of overlap (positive entries):\")\n",
    "print(have_intersect[17].describe())\n"
   ]
  },
  {
   "cell_type": "markdown",
   "id": "591e8b6a-876b-45eb-8166-47d7651406a8",
   "metadata": {},
   "source": [
    "# TilingMPRA"
   ]
  },
  {
   "cell_type": "code",
   "execution_count": 40,
   "id": "bf045b87-3cb7-4e2a-bc5a-ecbeabd30c05",
   "metadata": {
    "execution": {
     "iopub.execute_input": "2025-04-11T18:41:39.820192Z",
     "iopub.status.busy": "2025-04-11T18:41:39.819914Z",
     "iopub.status.idle": "2025-04-11T18:41:39.926450Z",
     "shell.execute_reply": "2025-04-11T18:41:39.925981Z",
     "shell.execute_reply.started": "2025-04-11T18:41:39.820171Z"
    },
    "tags": []
   },
   "outputs": [
    {
     "name": "stdout",
     "output_type": "stream",
     "text": [
      "136\n",
      "3761\n",
      "2117\n",
      "6014\n",
      "finished\n"
     ]
    }
   ],
   "source": [
    " # -------------------- TilingMPRA OL13 --------------------\n",
    "\n",
    "data_path = os.path.join(project_root, 'data', 'uniform_processed_data', 'TilingMPRA', 'OL13_ENCSR394HXI', 'merged_peak', 'merged_enhancer_peak_in_either_orientation.bed.gz')\n",
    "ol13_merged_active = pd.read_csv(data_path, sep='\\t', header=None)\n",
    "print(len(ol13_merged_active))\n",
    "\n",
    "ol13_merged_active = ol13_merged_active[[0,1,2]]\n",
    "ol13_merged_active[3] = 'TilingMPRA_ENCSR394HXI_active'\n",
    "\n",
    "# -------------------- TilingMPRA OL45 --------------------\n",
    "\n",
    "data_path = os.path.join(project_root, 'data', 'uniform_processed_data', 'TilingMPRA', 'OL45_ENCSR363XER', 'merged_peak', 'merged_enhancer_peak_in_either_orientation.bed.gz')\n",
    "ol45_merged_active = pd.read_csv(data_path, sep='\\t', header=None)\n",
    "print(len(ol45_merged_active))\n",
    "\n",
    "ol45_merged_active = ol45_merged_active[[0,1,2]]\n",
    "ol45_merged_active[3] = 'TilingMPRA_ENCSR363XER_active'\n",
    "\n",
    "# -------------------- TilingMPRA OL43 --------------------\n",
    "\n",
    "data_path = os.path.join(project_root, 'data', 'uniform_processed_data', 'TilingMPRA', 'OL43_ENCSR917SFD', 'merged_peak', 'merged_enhancer_peak_in_either_orientation.bed.gz')\n",
    "ol43_merged_active = pd.read_csv(data_path, sep='\\t', header=None)\n",
    "print(len(ol43_merged_active))\n",
    "\n",
    "ol43_merged_active = ol43_merged_active[[0,1,2]]\n",
    "ol43_merged_active[3] = 'TilingMPRA_ENCSR917SFD_active'\n",
    "\n",
    "tilingMPRA_uniform_processed_active = pd.concat([ol13_merged_active, ol45_merged_active, ol43_merged_active], ignore_index=True, axis=0)\n",
    "print(len(tilingMPRA_uniform_processed_active))\n",
    "\n",
    "data_path = os.path.join(project_root, 'data', 'uniform_processed_data', 'TilingMPRA', 'all_TilingMPRA_merged_enhancer_peak_in_either_orientation.bed.gz')\n",
    "tilingMPRA_uniform_processed_active.to_csv(data_path, sep='\\t', header=False, index=False, compression='gzip')\n",
    "print('finished')\n"
   ]
  },
  {
   "cell_type": "code",
   "execution_count": 41,
   "id": "20747fda-5fee-470e-be60-9ba68e02453d",
   "metadata": {
    "execution": {
     "iopub.execute_input": "2025-04-11T18:42:42.392051Z",
     "iopub.status.busy": "2025-04-11T18:42:42.391777Z",
     "iopub.status.idle": "2025-04-11T18:42:42.498866Z",
     "shell.execute_reply": "2025-04-11T18:42:42.498403Z",
     "shell.execute_reply.started": "2025-04-11T18:42:42.392030Z"
    }
   },
   "outputs": [
    {
     "name": "stdout",
     "output_type": "stream",
     "text": [
      "121\n",
      "8379\n",
      "4419\n",
      "12919\n",
      "finished\n"
     ]
    }
   ],
   "source": [
    "# -------------------- TilingMPRA OL13 --------------------\n",
    "\n",
    "data_path = os.path.join(project_root, 'data', 'lab_reported_data', 'processed_files', 'TilingMPRA', 'OL13_merged_enhancer_peaks_in_either_orientation.bed')\n",
    "ol13_merged_active = pd.read_csv(data_path, sep='\\t', header=None)\n",
    "print(len(ol13_merged_active))\n",
    "\n",
    "ol13_merged_active = ol13_merged_active[[0,1,2]]\n",
    "ol13_merged_active[3] = 'TilingMPRA_ENCSR394HXI_active'\n",
    "\n",
    "\n",
    "# -------------------- TilingMPRA OL45 --------------------\n",
    "\n",
    "data_path = os.path.join(project_root, 'data', 'lab_reported_data', 'processed_files', 'TilingMPRA', 'OL45_merged_enhancer_peaks_in_either_orientation.bed')\n",
    "ol45_merged_active = pd.read_csv(data_path, sep='\\t', header=None)\n",
    "print(len(ol45_merged_active))\n",
    "\n",
    "ol45_merged_active = ol45_merged_active[[0,1,2]]\n",
    "ol45_merged_active[3] = 'TilingMPRA_ENCSR363XER_active'\n",
    "\n",
    "\n",
    "# -------------------- TilingMPRA OL43 --------------------\n",
    "\n",
    "data_path = os.path.join(project_root, 'data', 'lab_reported_data', 'processed_files', 'TilingMPRA', 'OL43_merged_enhancer_peaks_in_either_orientation.bed')\n",
    "ol43_merged_active = pd.read_csv(data_path, sep='\\t', header=None)\n",
    "print(len(ol43_merged_active))\n",
    "\n",
    "ol43_merged_active = ol43_merged_active[[0,1,2]]\n",
    "ol43_merged_active[3] = 'TilingMPRA_ENCSR917SFD_active'\n",
    "\n",
    "tilingMPRA_lab_reported_active = pd.concat([ol13_merged_active, ol45_merged_active, ol43_merged_active], ignore_index=True, axis=0)\n",
    "print(len(tilingMPRA_lab_reported_active))\n",
    "\n",
    "data_path = os.path.join(project_root, 'data', 'lab_reported_data', 'processed_files', 'TilingMPRA', 'all_TilingMPRA_active_from_lab_reported_data.bed.gz')\n",
    "tilingMPRA_lab_reported_active.to_csv(data_path, sep='\\t', header=False, index=False, compression='gzip')\n",
    "print('finished')\n"
   ]
  },
  {
   "cell_type": "code",
   "execution_count": null,
   "id": "7c4c63a8-4aa6-466a-9be9-85b7b4f6b9f2",
   "metadata": {},
   "outputs": [],
   "source": []
  }
 ],
 "metadata": {
  "kernelspec": {
   "display_name": "Python 3 (ipykernel)",
   "language": "python",
   "name": "python3"
  },
  "language_info": {
   "codemirror_mode": {
    "name": "ipython",
    "version": 3
   },
   "file_extension": ".py",
   "mimetype": "text/x-python",
   "name": "python",
   "nbconvert_exporter": "python",
   "pygments_lexer": "ipython3",
   "version": "3.9.16"
  }
 },
 "nbformat": 4,
 "nbformat_minor": 5
}
